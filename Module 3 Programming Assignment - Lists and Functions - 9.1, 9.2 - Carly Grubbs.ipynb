{
 "cells": [
  {
   "cell_type": "markdown",
   "id": "d2c3af72-596f-4356-b16d-98877099e98f",
   "metadata": {},
   "source": [
    "## Session 9.1 - Print a list from a fuction"
   ]
  },
  {
   "cell_type": "code",
   "execution_count": 1,
   "id": "3ce106e0-c127-4c99-af62-1a36d47548ba",
   "metadata": {},
   "outputs": [
    {
     "name": "stdout",
     "output_type": "stream",
     "text": [
      "['Harry', 'Ron', 'Hermione']\n",
      "\n"
     ]
    }
   ],
   "source": [
    "def good(): ## Sart the function\n",
    "    friends = [\"Harry\", \"Ron\", \"Hermione\"] ## setup a firends list from harry potter\n",
    "    print(friends) ## printing the list\n",
    "\n",
    "good() ## Runnint the function\n",
    "\n",
    "print() ## printing a blank line"
   ]
  },
  {
   "cell_type": "markdown",
   "id": "e220569c-be3c-4458-b415-e4bd286ee458",
   "metadata": {},
   "source": [
    "## Session 9.2 - Finding only the odds up to 10 and printing only the 3rd number in the list"
   ]
  },
  {
   "cell_type": "code",
   "execution_count": 2,
   "id": "85c912ea-c8eb-4e74-a7e1-3bf6659f3f43",
   "metadata": {},
   "outputs": [
    {
     "name": "stdout",
     "output_type": "stream",
     "text": [
      "1\n",
      "3\n",
      "5\n",
      "7\n",
      "9\n",
      "\n",
      "5\n"
     ]
    }
   ],
   "source": [
    "def get_odds(): ## starting a function\n",
    "    for x in range(10): ## setting up a range of numbers up to 10\n",
    "        if x %2 != 0: ## checking to see if the remainder of the number divided by 2 is not equal to 0\n",
    "            yield x ## if the module is equal not equal to 0 it will return the number\n",
    "\n",
    "## I used this to verify that the above generator function was only pulling the odd numbers\n",
    "for value in get_odds():\n",
    "    print(value)\n",
    "\n",
    "print() ## printing a blank line\n",
    "\n",
    "count = 0 ## creating a variable to count the numbers returned from\n",
    "for odd_number in get_odds(): ## setting the odd numbers to a variable from the get odds generator function\n",
    "   count += 1 ## adding 1 to count\n",
    "   if count == 3: ## checking to see if count is equal to 3\n",
    "       print(odd_number) ## if count equals 3 it will print that odd number\n",
    "       break ## breaking out of the for loop once count equals 3"
   ]
  },
  {
   "cell_type": "code",
   "execution_count": null,
   "id": "b62e341e-83b6-4cd9-815f-5b6c1f346b8d",
   "metadata": {},
   "outputs": [],
   "source": []
  }
 ],
 "metadata": {
  "kernelspec": {
   "display_name": "Python 3 (ipykernel)",
   "language": "python",
   "name": "python3"
  },
  "language_info": {
   "codemirror_mode": {
    "name": "ipython",
    "version": 3
   },
   "file_extension": ".py",
   "mimetype": "text/x-python",
   "name": "python",
   "nbconvert_exporter": "python",
   "pygments_lexer": "ipython3",
   "version": "3.13.5"
  }
 },
 "nbformat": 4,
 "nbformat_minor": 5
}

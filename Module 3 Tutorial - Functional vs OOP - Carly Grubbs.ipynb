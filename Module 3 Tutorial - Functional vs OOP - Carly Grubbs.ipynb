{
 "cells": [
  {
   "cell_type": "markdown",
   "id": "1cff62fd-3b4c-4572-a19a-d5f30a3e4008",
   "metadata": {},
   "source": [
    "## Module 3 Tutorial - Functional vs OOP"
   ]
  },
  {
   "cell_type": "markdown",
   "id": "18bb8b89-5bb0-49c8-961d-32f9a652f7eb",
   "metadata": {},
   "source": [
    "## Sort an Array of 0s, 1s, and 2s"
   ]
  },
  {
   "cell_type": "code",
   "execution_count": 19,
   "id": "a857335a-774e-40e8-a3e2-cb3fc402f00d",
   "metadata": {},
   "outputs": [
    {
     "name": "stdout",
     "output_type": "stream",
     "text": [
      "[0, 0, 1, 1, 2, 2]\n",
      "[0, 0, 0, 0, 0, 1, 1, 1, 1, 1, 2, 2]\n"
     ]
    }
   ],
   "source": [
    "class Answer:\n",
    "    def sort012(arr):\n",
    "        ## initalizing variable to find the position of the numbers       \n",
    "        l = 0\n",
    "        m = 0\n",
    "        h = len(arr) - 1\n",
    "        \n",
    "        while m <= h:  ## starting the comparing loop\n",
    "            if arr[m] == 0:  ## checking the first element in the array\n",
    "                arr[l], arr[m] = arr[m], arr[l]  ## changing the order of the numbers\n",
    "                l += 1  ## adding 1 to l if the 0 is placed correctly\n",
    "                m += 1 ## addin 1 to m if the 0 is placed correctly\n",
    "            elif arr[m] == 1: ## checking the element in the array\n",
    "                m += 1  ## adding 1 to m\n",
    "            else:   ## m == 2\n",
    "                arr[m], arr[h] = arr[h], arr[m]  ## chaning the order of the numbers\n",
    "                h -= 1 ## taking 1 from h\n",
    "\n",
    "        return arr ## returns the sorted array\n",
    "                \n",
    "    print(sort012([0, 1, 2, 0, 1, 2]))\n",
    "    # Output: [0, 0, 1, 1, 2, 2]\n",
    "    \n",
    "    print(sort012([0, 1, 1, 0, 1, 2, 1, 2, 0, 0, 0, 1]))\n",
    "    # Output: [0, 0, 0, 0, 0, 1, 1, 1, 1, 1, 2, 2]\n"
   ]
  },
  {
   "cell_type": "markdown",
   "id": "bca8eafa-db3c-46f8-a4b0-5307857da971",
   "metadata": {},
   "source": [
    "## Binary Search"
   ]
  },
  {
   "cell_type": "code",
   "execution_count": 21,
   "id": "26a5ed1d-401d-4ed0-bb18-1e6ec8b0543f",
   "metadata": {},
   "outputs": [
    {
     "name": "stdout",
     "output_type": "stream",
     "text": [
      "3\n",
      "-1\n",
      "0\n"
     ]
    }
   ],
   "source": [
    "class Honmework:\n",
    "    def occur(arr, k):\n",
    "        lt, rt = 0, len(arr) - 1\n",
    "        answer = -1  # used to store the index of k if found\n",
    "\n",
    "        while lt <= rt: ## starting the loop \n",
    "            mid = lt + (rt - lt) // 2  # Calculate middle index used to determine which is the left and right sides\n",
    "\n",
    "            if arr[mid] == k:\n",
    "                answer = mid  # Store the index to answer\n",
    "                rt = mid - 1  # checks the rest of the left side for an earlier index\n",
    "            elif arr[mid] < k:\n",
    "                lt = mid + 1  # k is in the right half\n",
    "            else:  # arr[mid] > k\n",
    "                rt = mid - 1  # k is in the left half\n",
    "\n",
    "        return answer ## returns the location of k in the array\n",
    "    \n",
    "\n",
    "    arr = [1, 2, 3, 4, 5]\n",
    "    k = 4\n",
    "    print(occur(arr, k))  ## sending the array and variable to the def and printing 3, that is the positing in the array the number 4 is found\n",
    "\n",
    "    arr = [11, 22, 33, 44, 55]\n",
    "    k = 445\n",
    "    print(occur(arr, k)) ## sending the array and variable to the def and printing -1, 445 is not found in the array\n",
    "\n",
    "    arr = [1, 1, 1, 1, 2]\n",
    "    k = 1\n",
    "    print(occur(arr, k)) ## sending the array and variable to the def and printing 0, 1 is found first in position 0"
   ]
  },
  {
   "cell_type": "code",
   "execution_count": null,
   "id": "e3009d26-360f-42dc-8900-ef7280283642",
   "metadata": {},
   "outputs": [],
   "source": []
  }
 ],
 "metadata": {
  "kernelspec": {
   "display_name": "Python 3 (ipykernel)",
   "language": "python",
   "name": "python3"
  },
  "language_info": {
   "codemirror_mode": {
    "name": "ipython",
    "version": 3
   },
   "file_extension": ".py",
   "mimetype": "text/x-python",
   "name": "python",
   "nbconvert_exporter": "python",
   "pygments_lexer": "ipython3",
   "version": "3.13.5"
  }
 },
 "nbformat": 4,
 "nbformat_minor": 5
}

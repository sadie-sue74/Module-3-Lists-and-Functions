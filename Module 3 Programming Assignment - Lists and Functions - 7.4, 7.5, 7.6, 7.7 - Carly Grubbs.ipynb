{
 "cells": [
  {
   "cell_type": "markdown",
   "id": "81b4ddc4-f206-4c69-b73e-142f9e52e5c1",
   "metadata": {},
   "source": [
    "## Module 3 Programming Assignment - Lists and Functions - 7.1, 7.5, 7.6, 7.7"
   ]
  },
  {
   "cell_type": "markdown",
   "id": "db740eb6-339e-4341-a22a-d827743ed2a1",
   "metadata": {},
   "source": [
    "## Session 7.4 - Create a things list using mozzarella, cinderella, salmonella"
   ]
  },
  {
   "cell_type": "code",
   "execution_count": 1,
   "id": "4b11a89b-f4ca-4760-8cf4-2733678c2665",
   "metadata": {},
   "outputs": [],
   "source": [
    "things = [\"mozzarella\", \"cinderella\", \"salmonella\"]"
   ]
  },
  {
   "cell_type": "markdown",
   "id": "c0929b5d-c24a-4678-b5dd-1f59fa17e277",
   "metadata": {},
   "source": [
    "## Session 7.5 - Capitalize the name of a person in the things list"
   ]
  },
  {
   "cell_type": "code",
   "execution_count": 4,
   "id": "dc7df7e8-1cf0-4063-aabd-2d4c5f766d29",
   "metadata": {},
   "outputs": [
    {
     "name": "stdout",
     "output_type": "stream",
     "text": [
      "['mozzarella', 'Cinderella', 'salmonella']\n"
     ]
    }
   ],
   "source": [
    "things[1] = things[1].capitalize()\n",
    "print(things)"
   ]
  },
  {
   "cell_type": "markdown",
   "id": "36305059-7da8-474e-ac9b-a8d99985ebba",
   "metadata": {},
   "source": [
    "## Session 7.6 - Changing all the cheese things to uppercase"
   ]
  },
  {
   "cell_type": "code",
   "execution_count": 5,
   "id": "9553e19b-f7ad-4c80-9c6d-55f8befff455",
   "metadata": {},
   "outputs": [
    {
     "name": "stdout",
     "output_type": "stream",
     "text": [
      "['MOZZARELLA', 'Cinderella', 'salmonella']\n"
     ]
    }
   ],
   "source": [
    "things[0] = things[0].upper()\n",
    "print(things)"
   ]
  },
  {
   "cell_type": "markdown",
   "id": "0cf5be13-9a15-4889-9d27-fb6d45b51cab",
   "metadata": {},
   "source": [
    "## Session 7.7 - Deleting the disease element"
   ]
  },
  {
   "cell_type": "code",
   "execution_count": 6,
   "id": "e0946256-8789-41cb-a474-a7a4810161d1",
   "metadata": {
    "scrolled": true
   },
   "outputs": [
    {
     "name": "stdout",
     "output_type": "stream",
     "text": [
      "['MOZZARELLA', 'Cinderella']\n"
     ]
    }
   ],
   "source": [
    "del things[2]\n",
    "print(things)"
   ]
  }
 ],
 "metadata": {
  "kernelspec": {
   "display_name": "Python 3 (ipykernel)",
   "language": "python",
   "name": "python3"
  },
  "language_info": {
   "codemirror_mode": {
    "name": "ipython",
    "version": 3
   },
   "file_extension": ".py",
   "mimetype": "text/x-python",
   "name": "python",
   "nbconvert_exporter": "python",
   "pygments_lexer": "ipython3",
   "version": "3.13.5"
  }
 },
 "nbformat": 4,
 "nbformat_minor": 5
}

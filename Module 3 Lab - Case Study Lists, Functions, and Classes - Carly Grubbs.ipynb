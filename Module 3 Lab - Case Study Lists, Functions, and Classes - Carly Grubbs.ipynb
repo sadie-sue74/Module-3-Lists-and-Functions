{
 "cells": [
  {
   "cell_type": "markdown",
   "id": "ecb4d5be-fe1c-405c-aa57-09c7c5b604a5",
   "metadata": {},
   "source": [
    "## Module 3 Lab - Case Study: Lists, Functions, and Classes"
   ]
  },
  {
   "cell_type": "code",
   "execution_count": 1,
   "id": "91986081-6532-4066-989b-c88225975e53",
   "metadata": {},
   "outputs": [
    {
     "name": "stdout",
     "output_type": "stream",
     "text": [
      "Please enter the details of your car:\n"
     ]
    },
    {
     "name": "stdin",
     "output_type": "stream",
     "text": [
      "Year:  2013\n",
      "Make:  Ford\n",
      "Model:  Fusion\n",
      "Number of doors (2 or 4):  4\n",
      "Type of roof (solid or sun roof):  solid\n"
     ]
    },
    {
     "name": "stdout",
     "output_type": "stream",
     "text": [
      "\n",
      "Here is the information you entered:\n",
      "  Vehicle type: car\n",
      "  Year: 2013\n",
      "  Make: Ford\n",
      "  Model: Fusion\n",
      "  Number of doors: 4\n",
      "  Type of roof: solid\n"
     ]
    }
   ],
   "source": [
    "## Defining a super class for a vehicle type inheritance\n",
    "## with a consructor that will run each time the object is created\n",
    "## setting the vehicle type to what is passed from other constuctors\n",
    "class Vehicle:\n",
    "    def __init__(self, vehicle_type): \n",
    "        self.vehicle_type = vehicle_type ## this will never change due to the vehicle_type being fixed further down the code\n",
    "\n",
    "## Creating a automabile class that will inheriate infomration from the main constructor\n",
    "class Automobile(Vehicle):\n",
    "    def __init__(self, vehicle_type, year, make, model, doors, roof): ## accepting information from the main constructor\n",
    "        super().__init__(vehicle_type) ## calling the super class\\\n",
    "        ## setting specific attributes that will be passed in\n",
    "        self.year = year\n",
    "        self.make = make\n",
    "        self.model = model\n",
    "        self.doors = doors\n",
    "        self.roof = roof\n",
    "\n",
    "def main():  ## creating the main function \n",
    "    ## asking for the deatils of the car\n",
    "    print(\"Please enter the details of your car:\") \n",
    "    \n",
    "    vehicle_type = \"car\"  # Fixed as per the requirement\n",
    "    year = input(\"Year: \")\n",
    "    make = input(\"Make: \")\n",
    "    model = input(\"Model: \")\n",
    "    doors = input(\"Number of doors (2 or 4): \")\n",
    "    roof = input(\"Type of roof (solid or sun roof): \")\n",
    "\n",
    "    ## creating a car instances with the user's information\n",
    "    car = Automobile(vehicle_type, year, make, model, doors, roof)\n",
    "\n",
    "    ## printing the information by sending the user's information from the car instance to the automobile class\n",
    "    print(\"\\nHere is the information you entered:\")\n",
    "    print(f\"  Vehicle type: {car.vehicle_type}\")\n",
    "    print(f\"  Year: {car.year}\")\n",
    "    print(f\"  Make: {car.make}\")\n",
    "    print(f\"  Model: {car.model}\")\n",
    "    print(f\"  Number of doors: {car.doors}\")\n",
    "    print(f\"  Type of roof: {car.roof}\")\n",
    "\n",
    "## running the main function\n",
    "if __name__ == \"__main__\":\n",
    "    main()"
   ]
  }
 ],
 "metadata": {
  "kernelspec": {
   "display_name": "Python 3 (ipykernel)",
   "language": "python",
   "name": "python3"
  },
  "language_info": {
   "codemirror_mode": {
    "name": "ipython",
    "version": 3
   },
   "file_extension": ".py",
   "mimetype": "text/x-python",
   "name": "python",
   "nbconvert_exporter": "python",
   "pygments_lexer": "ipython3",
   "version": "3.13.5"
  }
 },
 "nbformat": 4,
 "nbformat_minor": 5
}
